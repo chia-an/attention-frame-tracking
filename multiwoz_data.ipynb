{
 "cells": [
  {
   "cell_type": "code",
   "execution_count": 1,
   "metadata": {},
   "outputs": [],
   "source": [
    "import json\n",
    "from pathlib import Path"
   ]
  },
  {
   "cell_type": "code",
   "execution_count": 2,
   "metadata": {},
   "outputs": [],
   "source": [
    "RED = '\\x1b[31m'\n",
    "BLUE = '\\x1b[34m'\n",
    "NC = '\\x1b[0m'"
   ]
  },
  {
   "cell_type": "code",
   "execution_count": 7,
   "metadata": {},
   "outputs": [],
   "source": [
    "dataset_dir = Path('../data/multiwoz2_parsed')\n",
    "\n",
    "raw_dials_path = dataset_dir / '..' / 'MULTIWOZ2 2' / 'data.json'\n",
    "delex_dials_path = dataset_dir / 'multi-woz' / 'delex.json'\n",
    "train_dials_path = dataset_dir / 'train_dials.json'\n",
    "valid_dials_path = dataset_dir / 'val_dials.json'\n",
    "test_dials_path = dataset_dir / 'test_dials.json'\n",
    "\n",
    "gen_dir = Path('multiwoz/model/data')\n",
    "\n",
    "valid_dials_gen_path = gen_dir / 'val_dials' / 'val_dials_gen.json'\n",
    "test_dials_gen_path = gen_dir / 'test_dials' / 'test_dials_gen.json'"
   ]
  },
  {
   "cell_type": "code",
   "execution_count": 8,
   "metadata": {},
   "outputs": [],
   "source": [
    "with open(raw_dials_path, 'r') as raw_dial_f:\n",
    "    raw_dials = json.load(raw_dial_f)\n",
    "with open(delex_dials_path, 'r') as delex_dial_f:\n",
    "    delex_dials = json.load(delex_dial_f)\n",
    "with open(valid_dials_path, 'r') as val_dial_f:\n",
    "    valid_dials = json.load(val_dial_f)\n",
    "with open(test_dials_path, 'r') as test_dial_f:\n",
    "    test_dials = json.load(test_dial_f)\n",
    "\n",
    "with open(valid_dials_gen_path, 'r') as val_dial_gen_f:\n",
    "    valid_dials_gen = json.load(val_dial_gen_f)\n",
    "with open(test_dials_gen_path, 'r') as test_dial_gen_f:\n",
    "    test_dials_gen = json.load(test_dial_gen_f)"
   ]
  },
  {
   "cell_type": "code",
   "execution_count": 9,
   "metadata": {},
   "outputs": [],
   "source": [
    "def show_turn(dial_id, turn_id, filt='11111'):\n",
    "    return '\\n'.join(filter(None, [\n",
    "        '' if filt[0] == '0' else '{}User   (raw):\\n{}\\n{}'.\n",
    "            format(RED, raw_dials[dial_id]['log'][turn_id*2]['text'], NC),\n",
    "        '' if filt[1] == '0' else '{}User   (delex) (input):\\n{}\\n{}'.\n",
    "            format(RED, valid_dials[dial_id]['usr'][turn_id].strip(), NC),\n",
    "        '' if filt[2] == '0' else '{}System (raw):\\n{}\\n{}'.\n",
    "            format(BLUE, raw_dials[dial_id]['log'][turn_id*2+1]['text'], NC),\n",
    "        '' if filt[3] == '0' else '{}System (delex) (ground truth):\\n{}\\n{}'.\n",
    "            format(BLUE, valid_dials[dial_id]['sys'][turn_id].strip(), NC),\n",
    "        '' if filt[4] == '0' else '{}System (gen):\\n{}\\n{}'.\n",
    "            format(BLUE, valid_dials_gen[dial_id][turn_id], NC),\n",
    "    ]))"
   ]
  },
  {
   "cell_type": "code",
   "execution_count": 12,
   "metadata": {},
   "outputs": [
    {
     "data": {
      "text/plain": [
       "['PMUL3233.json',\n",
       " 'SNG01627.json',\n",
       " 'PMUL1402.json',\n",
       " 'MUL0242.json',\n",
       " 'PMUL1072.json',\n",
       " 'PMUL3048.json',\n",
       " 'PMUL0958.json',\n",
       " 'PMUL3979.json',\n",
       " 'MUL1409.json',\n",
       " 'PMUL4828.json']"
      ]
     },
     "execution_count": 12,
     "metadata": {},
     "output_type": "execute_result"
    }
   ],
   "source": [
    "list(valid_dials.keys())[:10]"
   ]
  },
  {
   "cell_type": "code",
   "execution_count": 47,
   "metadata": {},
   "outputs": [],
   "source": [
    "single_dial_ids = []\n",
    "mul_dial_ids = []\n",
    "\n",
    "for dial_id in raw_dials.keys():\n",
    "    if 'SNG' in dial_id or 'WOZ' in dial_id:\n",
    "        single_dial_ids.append(dial_id)\n",
    "    elif 'MUL' in dial_id:\n",
    "        mul_dial_ids.append(dial_id)\n",
    "    else:\n",
    "        assert False, dial_id"
   ]
  },
  {
   "cell_type": "code",
   "execution_count": 50,
   "metadata": {},
   "outputs": [
    {
     "name": "stdout",
     "output_type": "stream",
     "text": [
      "SNG0285.json\n",
      "\u001b[31mUser   (raw):\n",
      "I need a train that leaves on Sunday for Broxbourne.\n",
      "\u001b[0m\n",
      "\u001b[34mSystem (raw):\n",
      "I have 19 trains going to broxbourne on Sunday. To help narrow it down, where would you like to depart from and what time?\n",
      "\u001b[0m\n",
      "\u001b[31mUser   (raw):\n",
      "I want it to leave from cambridge after 09:15.\n",
      "\u001b[0m\n",
      "\u001b[34mSystem (raw):\n",
      "Let me look up those times for you. One minute.\n",
      "\u001b[0m\n",
      "\u001b[31mUser   (raw):\n",
      "Not looking to book, can I just get the train ID, price, and travel time? Thanks!\n",
      "\u001b[0m\n",
      "\u001b[34mSystem (raw):\n",
      "I'm sorry, I'm not finding that fits those criteria. Is there a different time you could leave? \n",
      "\u001b[0m\n",
      "\u001b[31mUser   (raw):\n",
      "There are no trains going to broxbourne from cambridge on Sunday after 09:15?\n",
      "\u001b[0m\n",
      "\u001b[34mSystem (raw):\n",
      "No, I'm sorry, it doesn't appear that those trains run on Sundays.  Is there a different day you could travel?  Also, will you leave from Broxbourne or Cambridge?\n",
      "\u001b[0m\n",
      "\u001b[31mUser   (raw):\n",
      "I need to go TO Broxbourne FROM Cambridge on Sunday, leaving any time after 9:15. Please check again with those details, please. \n",
      "\u001b[0m\n",
      "\u001b[34mSystem (raw):\n",
      "I'm terribly sorry -- you are correct.  There are trains every hour, at one minute past. There is a 10:01 train on Sunday, for example. Travel time is 60 minutes.\n",
      "\u001b[0m\n",
      "\u001b[31mUser   (raw):\n",
      "Great. What's the train ID and price?\n",
      "\u001b[0m\n",
      "\u001b[34mSystem (raw):\n",
      "The TrainID is TR9580 which leaves at 10:01. The price From Cambridge to Broxbourne is 14.32 pounds. Do you need additional information?\n",
      "\u001b[0m\n",
      "\u001b[31mUser   (raw):\n",
      "Yes, what is the duration of the train ride?\n",
      "\u001b[0m\n",
      "\u001b[34mSystem (raw):\n",
      "The duration is six minutes. Can I get you a ticket?\n",
      "\u001b[0m\n",
      "\u001b[31mUser   (raw):\n",
      "No, that's all right.\n",
      "\u001b[0m\n",
      "\u001b[34mSystem (raw):\n",
      "Let us know if you need anything else.\n",
      "\u001b[0m\n"
     ]
    }
   ],
   "source": [
    "dial_id = single_dial_ids[25]  # 'MUL2105.json'\n",
    "# dial = valid_dials[dial_id]\n",
    "n_turns = len(raw_dials[dial_id]['log']) // 2\n",
    "\n",
    "print(dial_id)\n",
    "for turn_id in range(n_turns):\n",
    "    print(show_turn(dial_id, turn_id, filt='10100'))"
   ]
  },
  {
   "cell_type": "code",
   "execution_count": 51,
   "metadata": {
    "scrolled": false
   },
   "outputs": [
    {
     "data": {
      "text/plain": [
       "[{'metadata': {},\n",
       "  'text': 'I need a train that leaves on Sunday for Broxbourne.'},\n",
       " {'metadata': {'attraction': {'book': {'booked': []},\n",
       "    'semi': {'area': '', 'name': '', 'type': ''}},\n",
       "   'hospital': {'book': {'booked': []}, 'semi': {'department': ''}},\n",
       "   'hotel': {'book': {'booked': [], 'day': '', 'people': '', 'stay': ''},\n",
       "    'semi': {'area': '',\n",
       "     'internet': '',\n",
       "     'name': '',\n",
       "     'parking': '',\n",
       "     'pricerange': '',\n",
       "     'stars': '',\n",
       "     'type': ''}},\n",
       "   'police': {'book': {'booked': []}, 'semi': {}},\n",
       "   'restaurant': {'book': {'booked': [], 'day': '', 'people': '', 'time': ''},\n",
       "    'semi': {'area': '', 'food': '', 'name': '', 'pricerange': ''}},\n",
       "   'taxi': {'book': {'booked': []},\n",
       "    'semi': {'arriveBy': '',\n",
       "     'departure': '',\n",
       "     'destination': '',\n",
       "     'leaveAt': ''}},\n",
       "   'train': {'book': {'booked': [], 'people': ''},\n",
       "    'semi': {'arriveBy': 'not mentioned',\n",
       "     'day': 'sunday',\n",
       "     'departure': 'not mentioned',\n",
       "     'destination': 'broxbourne',\n",
       "     'leaveAt': 'not mentioned'}}},\n",
       "  'text': 'I have 19 trains going to broxbourne on Sunday. To help narrow it down, where would you like to depart from and what time?'},\n",
       " {'metadata': {}, 'text': 'I want it to leave from cambridge after 09:15.'},\n",
       " {'metadata': {'attraction': {'book': {'booked': []},\n",
       "    'semi': {'area': '', 'name': '', 'type': ''}},\n",
       "   'hospital': {'book': {'booked': []}, 'semi': {'department': ''}},\n",
       "   'hotel': {'book': {'booked': [], 'day': '', 'people': '', 'stay': ''},\n",
       "    'semi': {'area': '',\n",
       "     'internet': '',\n",
       "     'name': '',\n",
       "     'parking': '',\n",
       "     'pricerange': '',\n",
       "     'stars': '',\n",
       "     'type': ''}},\n",
       "   'police': {'book': {'booked': []}, 'semi': {}},\n",
       "   'restaurant': {'book': {'booked': [], 'day': '', 'people': '', 'time': ''},\n",
       "    'semi': {'area': '', 'food': '', 'name': '', 'pricerange': ''}},\n",
       "   'taxi': {'book': {'booked': []},\n",
       "    'semi': {'arriveBy': '',\n",
       "     'departure': '',\n",
       "     'destination': '',\n",
       "     'leaveAt': ''}},\n",
       "   'train': {'book': {'booked': [], 'people': ''},\n",
       "    'semi': {'arriveBy': 'not mentioned',\n",
       "     'day': 'sunday',\n",
       "     'departure': 'not mentioned',\n",
       "     'destination': 'broxbourne',\n",
       "     'leaveAt': 'after 9:15 AM'}}},\n",
       "  'text': 'Let me look up those times for you. One minute.'},\n",
       " {'metadata': {},\n",
       "  'text': 'Not looking to book, can I just get the train ID, price, and travel time? Thanks!'},\n",
       " {'metadata': {'attraction': {'book': {'booked': []},\n",
       "    'semi': {'area': '', 'name': '', 'type': ''}},\n",
       "   'hospital': {'book': {'booked': []}, 'semi': {'department': ''}},\n",
       "   'hotel': {'book': {'booked': [], 'day': '', 'people': '', 'stay': ''},\n",
       "    'semi': {'area': '',\n",
       "     'internet': '',\n",
       "     'name': '',\n",
       "     'parking': '',\n",
       "     'pricerange': '',\n",
       "     'stars': '',\n",
       "     'type': ''}},\n",
       "   'police': {'book': {'booked': []}, 'semi': {}},\n",
       "   'restaurant': {'book': {'booked': [], 'day': '', 'people': '', 'time': ''},\n",
       "    'semi': {'area': '', 'food': '', 'name': '', 'pricerange': ''}},\n",
       "   'taxi': {'book': {'booked': []},\n",
       "    'semi': {'arriveBy': '',\n",
       "     'departure': '',\n",
       "     'destination': '',\n",
       "     'leaveAt': ''}},\n",
       "   'train': {'book': {'booked': [], 'people': ''},\n",
       "    'semi': {'arriveBy': 'not mentioned',\n",
       "     'day': 'sunday',\n",
       "     'departure': 'cambridge',\n",
       "     'destination': 'broxbourne',\n",
       "     'leaveAt': 'after 9:15 AM'}}},\n",
       "  'text': \"I'm sorry, I'm not finding that fits those criteria. Is there a different time you could leave? \"},\n",
       " {'metadata': {},\n",
       "  'text': 'There are no trains going to broxbourne from cambridge on Sunday after 09:15?'},\n",
       " {'metadata': {'attraction': {'book': {'booked': []},\n",
       "    'semi': {'area': '', 'name': '', 'type': ''}},\n",
       "   'hospital': {'book': {'booked': []}, 'semi': {'department': ''}},\n",
       "   'hotel': {'book': {'booked': [], 'day': '', 'people': '', 'stay': ''},\n",
       "    'semi': {'area': '',\n",
       "     'internet': '',\n",
       "     'name': '',\n",
       "     'parking': '',\n",
       "     'pricerange': '',\n",
       "     'stars': '',\n",
       "     'type': ''}},\n",
       "   'police': {'book': {'booked': []}, 'semi': {}},\n",
       "   'restaurant': {'book': {'booked': [], 'day': '', 'people': '', 'time': ''},\n",
       "    'semi': {'area': '', 'food': '', 'name': '', 'pricerange': ''}},\n",
       "   'taxi': {'book': {'booked': []},\n",
       "    'semi': {'arriveBy': '',\n",
       "     'departure': '',\n",
       "     'destination': '',\n",
       "     'leaveAt': ''}},\n",
       "   'train': {'book': {'booked': [], 'people': ''},\n",
       "    'semi': {'arriveBy': 'not mentioned',\n",
       "     'day': 'not mentioned',\n",
       "     'departure': 'cambridge',\n",
       "     'destination': 'broxbourne',\n",
       "     'leaveAt': 'not mentioned'}}},\n",
       "  'text': \"No, I'm sorry, it doesn't appear that those trains run on Sundays.  Is there a different day you could travel?  Also, will you leave from Broxbourne or Cambridge?\"},\n",
       " {'metadata': {},\n",
       "  'text': 'I need to go TO Broxbourne FROM Cambridge on Sunday, leaving any time after 9:15. Please check again with those details, please. '},\n",
       " {'metadata': {'attraction': {'book': {'booked': []},\n",
       "    'semi': {'area': '', 'name': '', 'type': ''}},\n",
       "   'hospital': {'book': {'booked': []}, 'semi': {'department': ''}},\n",
       "   'hotel': {'book': {'booked': [], 'day': '', 'people': '', 'stay': ''},\n",
       "    'semi': {'area': '',\n",
       "     'internet': '',\n",
       "     'name': '',\n",
       "     'parking': '',\n",
       "     'pricerange': '',\n",
       "     'stars': '',\n",
       "     'type': ''}},\n",
       "   'police': {'book': {'booked': []}, 'semi': {}},\n",
       "   'restaurant': {'book': {'booked': [], 'day': '', 'people': '', 'time': ''},\n",
       "    'semi': {'area': '', 'food': '', 'name': '', 'pricerange': ''}},\n",
       "   'taxi': {'book': {'booked': []},\n",
       "    'semi': {'arriveBy': '',\n",
       "     'departure': '',\n",
       "     'destination': '',\n",
       "     'leaveAt': ''}},\n",
       "   'train': {'book': {'booked': [], 'people': ''},\n",
       "    'semi': {'arriveBy': 'not mentioned',\n",
       "     'day': 'sunday',\n",
       "     'departure': 'cambridge',\n",
       "     'destination': 'broxbourne',\n",
       "     'leaveAt': 'not mentioned'}}},\n",
       "  'text': \"I'm terribly sorry -- you are correct.  There are trains every hour, at one minute past. There is a 10:01 train on Sunday, for example. Travel time is 60 minutes.\"},\n",
       " {'metadata': {}, 'text': \"Great. What's the train ID and price?\"},\n",
       " {'metadata': {'attraction': {'book': {'booked': []},\n",
       "    'semi': {'area': '', 'name': '', 'type': ''}},\n",
       "   'hospital': {'book': {'booked': []}, 'semi': {'department': ''}},\n",
       "   'hotel': {'book': {'booked': [], 'day': '', 'people': '', 'stay': ''},\n",
       "    'semi': {'area': '',\n",
       "     'internet': '',\n",
       "     'name': '',\n",
       "     'parking': '',\n",
       "     'pricerange': '',\n",
       "     'stars': '',\n",
       "     'type': ''}},\n",
       "   'police': {'book': {'booked': []}, 'semi': {}},\n",
       "   'restaurant': {'book': {'booked': [], 'day': '', 'people': '', 'time': ''},\n",
       "    'semi': {'area': '', 'food': '', 'name': '', 'pricerange': ''}},\n",
       "   'taxi': {'book': {'booked': []},\n",
       "    'semi': {'arriveBy': '',\n",
       "     'departure': '',\n",
       "     'destination': '',\n",
       "     'leaveAt': ''}},\n",
       "   'train': {'book': {'booked': [], 'people': ''},\n",
       "    'semi': {'arriveBy': 'not mentioned',\n",
       "     'day': 'sunday',\n",
       "     'departure': 'cambridge',\n",
       "     'destination': 'broxbourne',\n",
       "     'leaveAt': '09:30'}}},\n",
       "  'text': 'The TrainID is TR9580 which leaves at 10:01. The price From Cambridge to Broxbourne is 14.32 pounds. Do you need additional information?'},\n",
       " {'metadata': {}, 'text': 'Yes, what is the duration of the train ride?'},\n",
       " {'metadata': {'attraction': {'book': {'booked': []},\n",
       "    'semi': {'area': '', 'name': '', 'type': ''}},\n",
       "   'hospital': {'book': {'booked': []}, 'semi': {'department': ''}},\n",
       "   'hotel': {'book': {'booked': [], 'day': '', 'people': '', 'stay': ''},\n",
       "    'semi': {'area': '',\n",
       "     'internet': '',\n",
       "     'name': '',\n",
       "     'parking': '',\n",
       "     'pricerange': '',\n",
       "     'stars': '',\n",
       "     'type': ''}},\n",
       "   'police': {'book': {'booked': []}, 'semi': {}},\n",
       "   'restaurant': {'book': {'booked': [], 'day': '', 'people': '', 'time': ''},\n",
       "    'semi': {'area': '', 'food': '', 'name': '', 'pricerange': ''}},\n",
       "   'taxi': {'book': {'booked': []},\n",
       "    'semi': {'arriveBy': '',\n",
       "     'departure': '',\n",
       "     'destination': '',\n",
       "     'leaveAt': ''}},\n",
       "   'train': {'book': {'booked': [], 'people': ''},\n",
       "    'semi': {'arriveBy': 'not mentioned',\n",
       "     'day': 'sunday',\n",
       "     'departure': 'cambridge',\n",
       "     'destination': 'broxbourne',\n",
       "     'leaveAt': '09:30'}}},\n",
       "  'text': 'The duration is six minutes. Can I get you a ticket?'},\n",
       " {'metadata': {}, 'text': \"No, that's all right.\"},\n",
       " {'metadata': {'attraction': {'book': {'booked': []},\n",
       "    'semi': {'area': '', 'name': '', 'type': ''}},\n",
       "   'hospital': {'book': {'booked': []}, 'semi': {'department': ''}},\n",
       "   'hotel': {'book': {'booked': [], 'day': '', 'people': '', 'stay': ''},\n",
       "    'semi': {'area': '',\n",
       "     'internet': '',\n",
       "     'name': '',\n",
       "     'parking': '',\n",
       "     'pricerange': '',\n",
       "     'stars': '',\n",
       "     'type': ''}},\n",
       "   'police': {'book': {'booked': []}, 'semi': {}},\n",
       "   'restaurant': {'book': {'booked': [], 'day': '', 'people': '', 'time': ''},\n",
       "    'semi': {'area': '', 'food': '', 'name': '', 'pricerange': ''}},\n",
       "   'taxi': {'book': {'booked': []},\n",
       "    'semi': {'arriveBy': '',\n",
       "     'departure': '',\n",
       "     'destination': '',\n",
       "     'leaveAt': ''}},\n",
       "   'train': {'book': {'booked': [], 'people': ''},\n",
       "    'semi': {'arriveBy': 'not mentioned',\n",
       "     'day': 'sunday',\n",
       "     'departure': 'cambridge',\n",
       "     'destination': 'broxbourne',\n",
       "     'leaveAt': '09:30'}}},\n",
       "  'text': 'Let us know if you need anything else.'}]"
      ]
     },
     "execution_count": 51,
     "metadata": {},
     "output_type": "execute_result"
    }
   ],
   "source": [
    "raw_dials[dial_id]['log']"
   ]
  },
  {
   "cell_type": "code",
   "execution_count": 15,
   "metadata": {},
   "outputs": [
    {
     "data": {
      "text/plain": [
       "dict_keys(['sys', 'db', 'usr', 'bs'])"
      ]
     },
     "execution_count": 15,
     "metadata": {},
     "output_type": "execute_result"
    }
   ],
   "source": [
    "dial.keys()"
   ]
  },
  {
   "cell_type": "code",
   "execution_count": 16,
   "metadata": {},
   "outputs": [
    {
     "data": {
      "text/plain": [
       "['congratulations on your upcoming anniversary ! [value_place] offers a variety of lodging options , what is your price range ?',\n",
       " 'i have several options for you , is there a particular area you are interested in during your stay ?',\n",
       " 'i have [value_count] guesthouse that fits that criteria , [attraction_name] . would you like me to book for you ?',\n",
       " '      ok , your hotel stay at [hotel_name] is booked , reference number [hotel_reference] . will there be anything else ?      ',\n",
       " '      sure , it s located in the [value_area] area of town . the phone number is [attraction_phone] . the entrance fee is [value_count] pounds .      ',\n",
       " '      the address is [attraction_address] . did you want any more information about the museum ?      ',\n",
       " '      the entrance fee is [value_count] pounds .      ',\n",
       " '      and what is your destination ?      ',\n",
       " '            your taxi has been booked . it will be a [taxi_type] and the contact number is [taxi_phone] .            ',\n",
       " '            have a nice stay !            ']"
      ]
     },
     "execution_count": 16,
     "metadata": {},
     "output_type": "execute_result"
    }
   ],
   "source": [
    "dial['sys']"
   ]
  },
  {
   "cell_type": "code",
   "execution_count": 17,
   "metadata": {},
   "outputs": [
    {
     "data": {
      "text/plain": [
       "['my husband and i are celebrating our anniversary and want to find a great place to stay in town .',\n",
       " 'i would like a [value_count] star guesthouse that include -s free parking .',\n",
       " 'yes should be in the [value_area]',\n",
       " \"yes , please ! we'll arrive on [value_day] and stay [value_count] nights . just the [value_count] of us , of course !\",\n",
       " 'i am wanting to know more about the [attraction_name] .',\n",
       " 'what is the address , please .',\n",
       " 'yes , i need the entrance fee . i will also need a taxi to pick me up by [value_time] . i need the contact number and car type please .',\n",
       " 'can you book the taxi for me at [value_time] leaving from the museum please . i will need the contact number and the car type .',\n",
       " 'i will leave the [value_place] museum at [value_time] , going to the the [hotel_name] .',\n",
       " 'thanks so much . that is all i need for today . bye .']"
      ]
     },
     "execution_count": 17,
     "metadata": {},
     "output_type": "execute_result"
    }
   ],
   "source": [
    "dial['usr']"
   ]
  },
  {
   "cell_type": "code",
   "execution_count": 18,
   "metadata": {},
   "outputs": [
    {
     "data": {
      "text/plain": [
       "(10, 94)"
      ]
     },
     "execution_count": 18,
     "metadata": {},
     "output_type": "execute_result"
    }
   ],
   "source": [
    "len(dial['bs']), len(dial['bs'][0])"
   ]
  },
  {
   "cell_type": "code",
   "execution_count": 19,
   "metadata": {},
   "outputs": [
    {
     "data": {
      "text/plain": [
       "(10, 30)"
      ]
     },
     "execution_count": 19,
     "metadata": {},
     "output_type": "execute_result"
    }
   ],
   "source": [
    "len(dial['db']), len(dial['db'][0])"
   ]
  },
  {
   "cell_type": "code",
   "execution_count": 20,
   "metadata": {},
   "outputs": [],
   "source": [
    "def decode_db(v):\n",
    "    assert len(v) == 30, len(v)\n",
    "    domains = ['restaurant', 'hotel', 'attraction', 'train']\n",
    "    for i, d in enumerate(domains):\n",
    "        print('{}: {}'.format(d, v[i*6: i*6+6]))\n",
    "    print('restaurant booking: {}'.format(v[24: 26]))\n",
    "    print('hotel booking: {}'.format(v[26: 28]))\n",
    "    print('train booking: {}'.format(v[28:]))"
   ]
  },
  {
   "cell_type": "code",
   "execution_count": 21,
   "metadata": {},
   "outputs": [
    {
     "name": "stdout",
     "output_type": "stream",
     "text": [
      "# Turn 0\n",
      "restaurant: [0.0, 0.0, 0.0, 0.0, 0.0, 1.0]\n",
      "hotel: [0.0, 0.0, 0.0, 0.0, 0.0, 1.0]\n",
      "attraction: [0.0, 0.0, 0.0, 0.0, 0.0, 1.0]\n",
      "train: [0.0, 0.0, 0.0, 0.0, 0.0, 1.0]\n",
      "restaurant booking: [1.0, 0.0]\n",
      "hotel booking: [1.0, 0.0]\n",
      "train booking: [1.0, 0.0]\n",
      "# Turn 1\n",
      "restaurant: [0.0, 0.0, 0.0, 0.0, 0.0, 1.0]\n",
      "hotel: [0.0, 0.0, 0.0, 0.0, 0.0, 1.0]\n",
      "attraction: [0.0, 0.0, 0.0, 0.0, 0.0, 1.0]\n",
      "train: [0.0, 0.0, 0.0, 0.0, 0.0, 1.0]\n",
      "restaurant booking: [1.0, 0.0]\n",
      "hotel booking: [1.0, 0.0]\n",
      "train booking: [1.0, 0.0]\n",
      "# Turn 2\n",
      "restaurant: [0.0, 0.0, 0.0, 0.0, 0.0, 1.0]\n",
      "hotel: [0.0, 1.0, 0.0, 0.0, 0.0, 0.0]\n",
      "attraction: [0.0, 0.0, 0.0, 0.0, 0.0, 1.0]\n",
      "train: [0.0, 0.0, 0.0, 0.0, 0.0, 1.0]\n",
      "restaurant booking: [1.0, 0.0]\n",
      "hotel booking: [1.0, 0.0]\n",
      "train booking: [1.0, 0.0]\n",
      "# Turn 3\n",
      "restaurant: [0.0, 0.0, 0.0, 0.0, 0.0, 1.0]\n",
      "hotel: [0.0, 1.0, 0.0, 0.0, 0.0, 0.0]\n",
      "attraction: [0.0, 0.0, 0.0, 0.0, 0.0, 1.0]\n",
      "train: [0.0, 0.0, 0.0, 0.0, 0.0, 1.0]\n",
      "restaurant booking: [1.0, 0.0]\n",
      "hotel booking: [0.0, 1.0]\n",
      "train booking: [1.0, 0.0]\n",
      "# Turn 4\n",
      "restaurant: [0.0, 0.0, 0.0, 0.0, 0.0, 1.0]\n",
      "hotel: [0.0, 1.0, 0.0, 0.0, 0.0, 0.0]\n",
      "attraction: [0.0, 1.0, 0.0, 0.0, 0.0, 0.0]\n",
      "train: [0.0, 0.0, 0.0, 0.0, 0.0, 1.0]\n",
      "restaurant booking: [1.0, 0.0]\n",
      "hotel booking: [0.0, 1.0]\n",
      "train booking: [1.0, 0.0]\n",
      "# Turn 5\n",
      "restaurant: [0.0, 0.0, 0.0, 0.0, 0.0, 1.0]\n",
      "hotel: [0.0, 1.0, 0.0, 0.0, 0.0, 0.0]\n",
      "attraction: [0.0, 1.0, 0.0, 0.0, 0.0, 0.0]\n",
      "train: [0.0, 0.0, 0.0, 0.0, 0.0, 1.0]\n",
      "restaurant booking: [1.0, 0.0]\n",
      "hotel booking: [0.0, 1.0]\n",
      "train booking: [1.0, 0.0]\n",
      "# Turn 6\n",
      "restaurant: [0.0, 0.0, 0.0, 0.0, 0.0, 1.0]\n",
      "hotel: [0.0, 1.0, 0.0, 0.0, 0.0, 0.0]\n",
      "attraction: [0.0, 1.0, 0.0, 0.0, 0.0, 0.0]\n",
      "train: [0.0, 0.0, 0.0, 0.0, 0.0, 1.0]\n",
      "restaurant booking: [1.0, 0.0]\n",
      "hotel booking: [0.0, 1.0]\n",
      "train booking: [1.0, 0.0]\n",
      "# Turn 7\n",
      "restaurant: [0.0, 0.0, 0.0, 0.0, 0.0, 1.0]\n",
      "hotel: [0.0, 1.0, 0.0, 0.0, 0.0, 0.0]\n",
      "attraction: [0.0, 1.0, 0.0, 0.0, 0.0, 0.0]\n",
      "train: [0.0, 0.0, 0.0, 0.0, 0.0, 1.0]\n",
      "restaurant booking: [1.0, 0.0]\n",
      "hotel booking: [0.0, 1.0]\n",
      "train booking: [1.0, 0.0]\n",
      "# Turn 8\n",
      "restaurant: [0.0, 0.0, 0.0, 0.0, 0.0, 1.0]\n",
      "hotel: [0.0, 1.0, 0.0, 0.0, 0.0, 0.0]\n",
      "attraction: [0.0, 1.0, 0.0, 0.0, 0.0, 0.0]\n",
      "train: [0.0, 0.0, 0.0, 0.0, 0.0, 1.0]\n",
      "restaurant booking: [1.0, 0.0]\n",
      "hotel booking: [0.0, 1.0]\n",
      "train booking: [1.0, 0.0]\n",
      "# Turn 9\n",
      "restaurant: [0.0, 0.0, 0.0, 0.0, 0.0, 1.0]\n",
      "hotel: [0.0, 1.0, 0.0, 0.0, 0.0, 0.0]\n",
      "attraction: [0.0, 1.0, 0.0, 0.0, 0.0, 0.0]\n",
      "train: [0.0, 0.0, 0.0, 0.0, 0.0, 1.0]\n",
      "restaurant booking: [1.0, 0.0]\n",
      "hotel booking: [0.0, 1.0]\n",
      "train booking: [1.0, 0.0]\n"
     ]
    }
   ],
   "source": [
    "for i, db_vector in enumerate(dial['db']):\n",
    "    print('# Turn {}'.format(i))\n",
    "    decode_db(db_vector)"
   ]
  },
  {
   "cell_type": "code",
   "execution_count": null,
   "metadata": {},
   "outputs": [],
   "source": []
  },
  {
   "cell_type": "code",
   "execution_count": null,
   "metadata": {},
   "outputs": [],
   "source": []
  }
 ],
 "metadata": {
  "kernelspec": {
   "display_name": "Python 3",
   "language": "python",
   "name": "python3"
  },
  "language_info": {
   "codemirror_mode": {
    "name": "ipython",
    "version": 3
   },
   "file_extension": ".py",
   "mimetype": "text/x-python",
   "name": "python",
   "nbconvert_exporter": "python",
   "pygments_lexer": "ipython3",
   "version": "3.6.4"
  }
 },
 "nbformat": 4,
 "nbformat_minor": 2
}
