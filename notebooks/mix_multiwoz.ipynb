{
 "cells": [
  {
   "cell_type": "code",
   "execution_count": 1,
   "metadata": {},
   "outputs": [],
   "source": [
    "import json\n",
    "import random\n",
    "from pathlib import Path"
   ]
  },
  {
   "cell_type": "code",
   "execution_count": 2,
   "metadata": {},
   "outputs": [],
   "source": [
    "RED = '\\x1b[31m'\n",
    "BLUE = '\\x1b[34m'\n",
    "NC = '\\x1b[0m'"
   ]
  },
  {
   "cell_type": "code",
   "execution_count": 3,
   "metadata": {},
   "outputs": [],
   "source": [
    "dataset_dir = Path('../data/multiwoz2_parsed')\n",
    "\n",
    "raw_dials_path = dataset_dir / '..' / 'MULTIWOZ2 2' / 'data.json'\n",
    "delex_dials_path = dataset_dir / 'multi-woz' / 'delex.json'\n",
    "train_dials_path = dataset_dir / 'train_dials.json'\n",
    "valid_dials_path = dataset_dir / 'val_dials.json'\n",
    "test_dials_path = dataset_dir / 'test_dials.json'\n",
    "\n",
    "gen_dir = Path('multiwoz/model/data')\n",
    "\n",
    "valid_dials_gen_path = gen_dir / 'val_dials' / 'val_dials_gen.json'\n",
    "test_dials_gen_path = gen_dir / 'test_dials' / 'test_dials_gen.json'"
   ]
  },
  {
   "cell_type": "code",
   "execution_count": 4,
   "metadata": {},
   "outputs": [],
   "source": [
    "with open(raw_dials_path, 'r') as raw_dial_f:\n",
    "    raw_dials = json.load(raw_dial_f)\n",
    "with open(delex_dials_path, 'r') as delex_dial_f:\n",
    "    delex_dials = json.load(delex_dial_f)\n",
    "with open(valid_dials_path, 'r') as val_dial_f:\n",
    "    valid_dials = json.load(val_dial_f)\n",
    "with open(test_dials_path, 'r') as test_dial_f:\n",
    "    test_dials = json.load(test_dial_f)\n",
    "\n",
    "with open(valid_dials_gen_path, 'r') as val_dial_gen_f:\n",
    "    valid_dials_gen = json.load(val_dial_gen_f)\n",
    "with open(test_dials_gen_path, 'r') as test_dial_gen_f:\n",
    "    test_dials_gen = json.load(test_dial_gen_f)"
   ]
  },
  {
   "cell_type": "code",
   "execution_count": 5,
   "metadata": {},
   "outputs": [],
   "source": [
    "def show_turn(dial_id, turn_id, filt='11111'):\n",
    "    return '\\n'.join(filter(None, [\n",
    "        '' if filt[0] == '0' else '{}User   (raw):\\n{}\\n{}'.\n",
    "            format(RED, raw_dials[dial_id]['log'][turn_id*2]['text'], NC),\n",
    "        '' if filt[1] == '0' else '{}User   (delex) (input):\\n{}\\n{}'.\n",
    "            format(RED, valid_dials[dial_id]['usr'][turn_id].strip(), NC),\n",
    "        '' if filt[2] == '0' else '{}System (raw):\\n{}\\n{}'.\n",
    "            format(BLUE, raw_dials[dial_id]['log'][turn_id*2+1]['text'], NC),\n",
    "        '' if filt[3] == '0' else '{}System (delex) (ground truth):\\n{}\\n{}'.\n",
    "            format(BLUE, valid_dials[dial_id]['sys'][turn_id].strip(), NC),\n",
    "        '' if filt[4] == '0' else '{}System (gen):\\n{}\\n{}'.\n",
    "            format(BLUE, valid_dials_gen[dial_id][turn_id], NC),\n",
    "    ]))"
   ]
  },
  {
   "cell_type": "code",
   "execution_count": 6,
   "metadata": {},
   "outputs": [
    {
     "name": "stdout",
     "output_type": "stream",
     "text": [
      "{'attraction', 'hotel', 'police', 'taxi', 'hospital', 'restaurant', 'train'}\n"
     ]
    }
   ],
   "source": [
    "# Get all domains.\n",
    "domains = set()\n",
    "for dial_id in raw_dials.keys():\n",
    "    for key in raw_dials[dial_id]['goal'].keys():\n",
    "        if key != 'message' and key != 'topic':\n",
    "            domains.add(key)\n",
    "print(domains)\n",
    "\n",
    "# Separate single and multi domain dials.\n",
    "single_dial_ids = []\n",
    "mul_dial_ids = []\n",
    "\n",
    "for dial_id in raw_dials.keys():\n",
    "    if 'SNG' in dial_id or 'WOZ' in dial_id:\n",
    "        single_dial_ids.append(dial_id)\n",
    "    elif 'MUL' in dial_id:\n",
    "        mul_dial_ids.append(dial_id)\n",
    "    else:\n",
    "        assert False, dial_id\n",
    "\n",
    "# Group dials by domain.\n",
    "domain_dial_ids = {}\n",
    "for dial_id in single_dial_ids:\n",
    "    cnt = 0\n",
    "    for domain in domains:\n",
    "        if raw_dials[dial_id]['goal'].get(domain, {}):\n",
    "            ids = domain_dial_ids.get(domain, [])\n",
    "            ids.append(dial_id)\n",
    "            domain_dial_ids[domain] = ids\n",
    "            cnt += 1\n",
    "    assert cnt == 1, raw_dials[dial_id]['goal']"
   ]
  },
  {
   "cell_type": "code",
   "execution_count": 7,
   "metadata": {},
   "outputs": [
    {
     "name": "stdout",
     "output_type": "stream",
     "text": [
      "hotel 634\n",
      "police 245\n",
      "taxi 435\n",
      "hospital 287\n",
      "restaurant 1310\n",
      "train 345\n",
      "attraction 150\n"
     ]
    }
   ],
   "source": [
    "# Count number of dialogues in each domain.\n",
    "for domain, domain_dials in domain_dial_ids.items():\n",
    "    print(domain, len(domain_dials))"
   ]
  },
  {
   "cell_type": "code",
   "execution_count": 8,
   "metadata": {},
   "outputs": [],
   "source": [
    "def mix_dialogues(lens, rng=None):\n",
    "    turns = [iter(range(length)) for length in lens]\n",
    "    index = list(range(len(lens)))\n",
    "    if rng is None:\n",
    "        rng = random\n",
    "        seed = rng.randrange(100)\n",
    "        rng.seed(seed)\n",
    "        print('seed = {}'.format(seed))\n",
    "#         rng.seed(0)\n",
    "    \n",
    "    while index:\n",
    "        dial_id = rng.choice(index)\n",
    "#         dial_id = index[0]\n",
    "        try:\n",
    "            turn_id = next(turns[dial_id])\n",
    "            yield (dial_id, turn_id)\n",
    "        except StopIteration:\n",
    "            index.remove(dial_id)"
   ]
  },
  {
   "cell_type": "code",
   "execution_count": 9,
   "metadata": {},
   "outputs": [
    {
     "name": "stdout",
     "output_type": "stream",
     "text": [
      "['WOZ20299.json', 'SNG01608.json']\n",
      "dial = 1, turn = 0\n",
      "\u001b[31mUser   (raw):\n",
      "Are there any Portuguese restaurants in Cambridge?\n",
      "\u001b[0m\n",
      "\u001b[34mSystem (raw):\n",
      "Yes there is a Portuguese restaurant in Cambridge  with two different locations, would you like the addresses?\n",
      "\u001b[0m\n",
      "dial = 1, turn = 1\n",
      "\u001b[31mUser   (raw):\n",
      "If one of them has a moderate price range please give me that address. If not tell me about Turkish restaurants instead.\n",
      "\u001b[0m\n",
      "\u001b[34mSystem (raw):\n",
      "I have two Turkish restuarants, both in the centre and both expensive. May I recommend anatolia?\n",
      "\u001b[0m\n",
      "dial = 1, turn = 2\n",
      "\u001b[31mUser   (raw):\n",
      "Actually I need a moderately priced restaurant. Are there any fitting that description?\n",
      "\u001b[0m\n",
      "\u001b[34mSystem (raw):\n",
      "I am sorry. I mistook that price range. The Anatolia is in the moderate range. Would that work for you?\n",
      "\u001b[0m\n",
      "dial = 0, turn = 0\n",
      "\u001b[31mUser   (raw):\n",
      "I want to find a cheap restaurant in the south part of town. \n",
      "\u001b[0m\n",
      "\u001b[34mSystem (raw):\n",
      "The Lucky Star is an inexpensive chinese restaurant in the south part of town.\n",
      "\u001b[0m\n",
      "dial = 1, turn = 3\n",
      "\u001b[31mUser   (raw):\n",
      "Yes, I need a reservation for 1 people at 14:00 on monday.\n",
      "\u001b[0m\n",
      "\u001b[34mSystem (raw):\n",
      "\n",
      "Booking was successful. The table will be reserved for 15 minutes.\n",
      "Reference number is : 96ZYHLN1.\n",
      "\u001b[0m\n",
      "dial = 1, turn = 4\n",
      "\u001b[31mUser   (raw):\n",
      "Thanks so much. That's all for today. Bye!\n",
      "\u001b[0m\n",
      "\u001b[34mSystem (raw):\n",
      "You are more than welcome!\n",
      "\n",
      "\u001b[0m\n",
      "dial = 0, turn = 1\n",
      "\u001b[31mUser   (raw):\n",
      "Are there any other places?\n",
      "\u001b[0m\n",
      "\u001b[34mSystem (raw):\n",
      "Nandos is a cheap Portuguese restaurant in the south. Would you like their information? \n",
      "\u001b[0m\n",
      "dial = 0, turn = 2\n",
      "\u001b[31mUser   (raw):\n",
      "sorry what is the food type of that restaurant ?\n",
      "\u001b[0m\n",
      "\u001b[34mSystem (raw):\n",
      "They serve Portuguese food. \n",
      "\u001b[0m\n",
      "dial = 0, turn = 3\n",
      "\u001b[31mUser   (raw):\n",
      "what is the price range ?\n",
      "\u001b[0m\n",
      "\u001b[34mSystem (raw):\n",
      "They are in the cheap price range. \n",
      "\u001b[0m\n",
      "dial = 0, turn = 4\n",
      "\u001b[31mUser   (raw):\n",
      "That sounds yummy. What is their address and phone number? \n",
      "\u001b[0m\n",
      "\u001b[34mSystem (raw):\n",
      "Nandos's address is Cambridge Leisure Park Clifton Way and the phone number is 01223 327908.  Is there anything else I can help you with?\n",
      "\u001b[0m\n",
      "dial = 0, turn = 5\n",
      "\u001b[31mUser   (raw):\n",
      "No thank you.  Bye bye!\n",
      "\u001b[0m\n",
      "\u001b[34mSystem (raw):\n",
      "You're welcome. Goodbye.\n",
      "\u001b[0m\n"
     ]
    }
   ],
   "source": [
    "dial_ids = [domain_dial_ids['restaurant'][12],\n",
    "            domain_dial_ids['restaurant'][4]]\n",
    "n_turns = [len(raw_dials[dial_id]['log']) // 2 for dial_id in dial_ids]\n",
    "random.seed(65)\n",
    "mix_turns = mix_dialogues(n_turns, rng=random)\n",
    "# mix_turns = mix_dialogues(n_turns)\n",
    "\n",
    "print(dial_ids)\n",
    "for index, turn_id in mix_turns:\n",
    "    dial_id = dial_ids[index]\n",
    "    print('dial = {}, turn = {}'.format(index, turn_id))\n",
    "    print(show_turn(dial_id, turn_id, filt='10100'))"
   ]
  }
 ],
 "metadata": {
  "kernelspec": {
   "display_name": "Python 3",
   "language": "python",
   "name": "python3"
  },
  "language_info": {
   "codemirror_mode": {
    "name": "ipython",
    "version": 3
   },
   "file_extension": ".py",
   "mimetype": "text/x-python",
   "name": "python",
   "nbconvert_exporter": "python",
   "pygments_lexer": "ipython3",
   "version": "3.6.4"
  }
 },
 "nbformat": 4,
 "nbformat_minor": 2
}
