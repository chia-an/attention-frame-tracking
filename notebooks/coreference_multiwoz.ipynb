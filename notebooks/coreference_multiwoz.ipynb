{
 "cells": [
  {
   "cell_type": "markdown",
   "metadata": {},
   "source": [
    "This notebook shows some examples of coreference in MultiWOZ dataset, such as \"it\", \"that\", \"them\". A short list of libraries for coreference resolution is also provided for analyzing the whole dataset in the future."
   ]
  },
  {
   "cell_type": "markdown",
   "metadata": {},
   "source": [
    "### Load data and libraries"
   ]
  },
  {
   "cell_type": "code",
   "execution_count": 1,
   "metadata": {},
   "outputs": [],
   "source": [
    "from pathlib import Path\n",
    "import json"
   ]
  },
  {
   "cell_type": "code",
   "execution_count": 2,
   "metadata": {},
   "outputs": [],
   "source": [
    "RED = '\\x1b[31m'\n",
    "BLUE = '\\x1b[34m'\n",
    "NC = '\\x1b[0m'"
   ]
  },
  {
   "cell_type": "code",
   "execution_count": 3,
   "metadata": {},
   "outputs": [],
   "source": [
    "dataset_dir = Path('../../data/multiwoz2_parsed')\n",
    "\n",
    "raw_dials_path = dataset_dir / '..' / 'MULTIWOZ2 2' / 'data.json'\n",
    "delex_dials_path = dataset_dir / 'multi-woz' / 'delex.json'\n",
    "train_dials_path = dataset_dir / 'train_dials.json'\n",
    "valid_dials_path = dataset_dir / 'val_dials.json'\n",
    "test_dials_path = dataset_dir / 'test_dials.json'\n",
    "\n",
    "gen_dir = Path('../multiwoz/model/data')\n",
    "\n",
    "valid_dials_gen_path = gen_dir / 'val_dials' / 'val_dials_gen.json'\n",
    "test_dials_gen_path = gen_dir / 'test_dials' / 'test_dials_gen.json'"
   ]
  },
  {
   "cell_type": "code",
   "execution_count": 4,
   "metadata": {},
   "outputs": [],
   "source": [
    "with open(raw_dials_path, 'r') as raw_dial_f:\n",
    "    raw_dials = json.load(raw_dial_f)\n",
    "\n",
    "# Uncomment to load the parsed and generated dialogues.\n",
    "# with open(delex_dials_path, 'r') as delex_dial_f:\n",
    "#     delex_dials = json.load(delex_dial_f)\n",
    "# with open(valid_dials_path, 'r') as val_dial_f:\n",
    "#     valid_dials = json.load(val_dial_f)\n",
    "# with open(test_dials_path, 'r') as test_dial_f:\n",
    "#     test_dials = json.load(test_dial_f)\n",
    "\n",
    "# with open(valid_dials_gen_path, 'r') as val_dial_gen_f:\n",
    "#     valid_dials_gen = json.load(val_dial_gen_f)\n",
    "# with open(test_dials_gen_path, 'r') as test_dial_gen_f:\n",
    "#     test_dials_gen = json.load(test_dial_gen_f)"
   ]
  },
  {
   "cell_type": "code",
   "execution_count": 5,
   "metadata": {},
   "outputs": [],
   "source": [
    "# Uncomment to display the parsed and generated dialogues.\n",
    "def show_turn(dial_id, turn_id, filt='11111'):\n",
    "    return '\\n'.join(filter(None, [\n",
    "        '' if filt[0] == '0' else '{}User   (raw):\\n{}\\n{}'.\n",
    "            format(RED, raw_dials[dial_id]['log'][turn_id*2]['text'], NC),\n",
    "#         '' if filt[1] == '0' else '{}User   (delex) (input):\\n{}\\n{}'.\n",
    "#             format(RED, valid_dials[dial_id]['usr'][turn_id].strip(), NC),\n",
    "        '' if filt[2] == '0' else '{}System (raw):\\n{}\\n{}'.\n",
    "            format(BLUE, raw_dials[dial_id]['log'][turn_id*2+1]['text'], NC),\n",
    "#         '' if filt[3] == '0' else '{}System (delex) (ground truth):\\n{}\\n{}'.\n",
    "#             format(BLUE, valid_dials[dial_id]['sys'][turn_id].strip(), NC),\n",
    "#         '' if filt[4] == '0' else '{}System (gen):\\n{}\\n{}'.\n",
    "#             format(BLUE, valid_dials_gen[dial_id][turn_id], NC),\n",
    "    ]))"
   ]
  },
  {
   "cell_type": "code",
   "execution_count": 6,
   "metadata": {},
   "outputs": [],
   "source": [
    "def sent_iterator(raw_dials):\n",
    "    for dial_id, dial in raw_dials.items():\n",
    "        yield dial_id\n",
    "        for turn in dial['log']:\n",
    "            yield turn['text']"
   ]
  },
  {
   "cell_type": "markdown",
   "metadata": {},
   "source": [
    "### Example with \"it\""
   ]
  },
  {
   "cell_type": "code",
   "execution_count": 7,
   "metadata": {},
   "outputs": [
    {
     "name": "stdout",
     "output_type": "stream",
     "text": [
      "\u001b[31mUser   (raw):\n",
      "I need to book a hotel in the east that has 4 stars.  \n",
      "\u001b[0m\n",
      "\u001b[34mSystem (raw):\n",
      "I can help you with that. What is your price range?\n",
      "\u001b[0m\n",
      "\u001b[31mUser   (raw):\n",
      "That doesn't matter as long as it has free wifi and parking.\n",
      "\u001b[0m\n",
      "\u001b[34mSystem (raw):\n",
      "If you'd like something cheap, I recommend the Allenbell. For something moderately priced, I would recommend the Warkworth House.\n",
      "\u001b[0m\n",
      "\u001b[31mUser   (raw):\n",
      "Could you book the Wartworth for one night, 1 person?\n",
      "\u001b[0m\n",
      "\u001b[34mSystem (raw):\n",
      "What day will you be staying?\n",
      "\u001b[0m\n",
      "\u001b[31mUser   (raw):\n",
      "Friday and Can you book it for me and get a reference number ?\n",
      "\u001b[0m\n",
      "\u001b[34mSystem (raw):\n",
      "Booking was successful.\n",
      "Reference number is : BMUKPTG6.  Can I help you with anything else today?\n",
      "\u001b[0m\n"
     ]
    }
   ],
   "source": [
    "dial_id = list(raw_dials)[2]\n",
    "\n",
    "for turn in range(4):\n",
    "    print(show_turn(dial_id, turn, filt='10100'))"
   ]
  },
  {
   "cell_type": "markdown",
   "metadata": {},
   "source": [
    "### Example with \"that\""
   ]
  },
  {
   "cell_type": "code",
   "execution_count": 8,
   "metadata": {},
   "outputs": [
    {
     "name": "stdout",
     "output_type": "stream",
     "text": [
      "\u001b[31mUser   (raw):\n",
      "I need to book a hotel in the east that has 4 stars.  \n",
      "\u001b[0m\n",
      "\u001b[34mSystem (raw):\n",
      "I can help you with that. What is your price range?\n",
      "\u001b[0m\n",
      "\u001b[31mUser   (raw):\n",
      "That doesn't matter as long as it has free wifi and parking.\n",
      "\u001b[0m\n",
      "\u001b[34mSystem (raw):\n",
      "If you'd like something cheap, I recommend the Allenbell. For something moderately priced, I would recommend the Warkworth House.\n",
      "\u001b[0m\n",
      "\u001b[31mUser   (raw):\n",
      "Could you book the Wartworth for one night, 1 person?\n",
      "\u001b[0m\n",
      "\u001b[34mSystem (raw):\n",
      "What day will you be staying?\n",
      "\u001b[0m\n",
      "\u001b[31mUser   (raw):\n",
      "Friday and Can you book it for me and get a reference number ?\n",
      "\u001b[0m\n",
      "\u001b[34mSystem (raw):\n",
      "Booking was successful.\n",
      "Reference number is : BMUKPTG6.  Can I help you with anything else today?\n",
      "\u001b[0m\n",
      "\u001b[31mUser   (raw):\n",
      "I am looking to book a train that is leaving from Cambridge to Bishops Stortford on Friday. \n",
      "\u001b[0m\n",
      "\u001b[34mSystem (raw):\n",
      "There are a number of trains leaving throughout the day.  What time would you like to travel?\n",
      "\u001b[0m\n",
      "\u001b[31mUser   (raw):\n",
      "I want to get there by 19:45 at the latest. \n",
      "\u001b[0m\n",
      "\u001b[34mSystem (raw):\n",
      "Okay! The latest train you can take leaves at 17:29, and arrives by 18:07. Would you like for me to book that for you?\n",
      "\u001b[0m\n",
      "\u001b[31mUser   (raw):\n",
      "Yes please. I also need the travel time, departure time, and price.\n",
      "\u001b[0m\n",
      "\u001b[34mSystem (raw):\n",
      "Reference number is : UIFV8FAS. The price is 10.1 GBP and the trip will take about 38 minutes. May I be of any other assistance?\n",
      "\u001b[0m\n",
      "\u001b[31mUser   (raw):\n",
      "Yes. Sorry, but suddenly my plans changed. Can you change the Wartworth booking to Monday for 3 people and 4 nights?\n",
      "\u001b[0m\n",
      "\u001b[34mSystem (raw):\n",
      "I have made that change and your reference number is YF86GE4J\n",
      "\u001b[0m\n",
      "\u001b[31mUser   (raw):\n",
      "Thank you very much, goodbye.\n",
      "\u001b[0m\n",
      "\u001b[34mSystem (raw):\n",
      "You're welcome. Have a nice day!\n",
      "\u001b[0m\n"
     ]
    }
   ],
   "source": [
    "dial_id = 'PMUL1635.json' #list(raw_dials)[1]\n",
    "n_turns = len(raw_dials[dial_id]['log']) // 2\n",
    "\n",
    "for turn in range(n_turns):\n",
    "    print(show_turn(dial_id, turn, filt='10100'))"
   ]
  },
  {
   "cell_type": "markdown",
   "metadata": {},
   "source": [
    "### Example with \"them\""
   ]
  },
  {
   "cell_type": "code",
   "execution_count": 9,
   "metadata": {},
   "outputs": [
    {
     "name": "stdout",
     "output_type": "stream",
     "text": [
      "\u001b[31mUser   (raw):\n",
      "The price doesn't really matter. I just need free parking. It doesn't really need to have internet though. \n",
      "\u001b[0m\n",
      "\u001b[34mSystem (raw):\n",
      "There are 5 guesthouses that have free parking. Should I book one of them for you?\n",
      "\u001b[0m\n",
      "\u001b[31mUser   (raw):\n",
      "Okay, none of them DON'T offer free wifi? If not, I'll need the address for one that does have wifi, please. Tell me about your favorite.\n",
      "\u001b[0m\n",
      "\u001b[34mSystem (raw):\n",
      "The allenbell is a guesthouse on the east.  The addres sis 517a coldham lane post code cb13js.\n",
      "\u001b[0m\n"
     ]
    }
   ],
   "source": [
    "dial_id = list(raw_dials)[6]\n",
    "\n",
    "for turn in range(3, 5):\n",
    "    print(show_turn(dial_id, turn, filt='10100'))"
   ]
  },
  {
   "cell_type": "markdown",
   "metadata": {},
   "source": [
    "### Libraries for coreference resolution\n",
    "\n",
    "- The Stanford NLP toolkit has a [coreference resolution module](https://stanfordnlp.github.io/CoreNLP/coref.html), but it is written in Java.\n",
    "- [This GitHub repository](https://github.com/huggingface/neuralcoref) has a pre-trained model integrated in spaCy pipeline, but it uses CPython instaed of an ordinary Python. They claim that the model is trained for coreference resolution in dialogues."
   ]
  }
 ],
 "metadata": {
  "kernelspec": {
   "display_name": "Python 3",
   "language": "python",
   "name": "python3"
  },
  "language_info": {
   "codemirror_mode": {
    "name": "ipython",
    "version": 3
   },
   "file_extension": ".py",
   "mimetype": "text/x-python",
   "name": "python",
   "nbconvert_exporter": "python",
   "pygments_lexer": "ipython3",
   "version": "3.6.4"
  }
 },
 "nbformat": 4,
 "nbformat_minor": 2
}
